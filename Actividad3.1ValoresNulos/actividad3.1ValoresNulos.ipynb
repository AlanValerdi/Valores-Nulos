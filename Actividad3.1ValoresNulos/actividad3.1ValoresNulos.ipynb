{
 "cells": [
  {
   "cell_type": "code",
   "execution_count": 1,
   "metadata": {},
   "outputs": [],
   "source": [
    "import pandas as pd\n",
    "import numpy as np\n",
    "import matplotlib.pyplot as plt"
   ]
  },
  {
   "cell_type": "code",
   "execution_count": null,
   "metadata": {},
   "outputs": [],
   "source": [
    "#Carga desde un archivo .csv sin indice\n",
    "# carga de valores utilizando una variable llamada data\n",
    "data = pd.read_csv(\"Ventas_totales.csv\")\n",
    "data.head(5)"
   ]
  },
  {
   "cell_type": "code",
   "execution_count": 3,
   "metadata": {},
   "outputs": [
    {
     "data": {
      "text/plain": [
       "indice_tiempo                           0\n",
       "ventas_precios_corrientes               0\n",
       "ventas_precios_constantes               0\n",
       "ventas_totales_canal_venta              0\n",
       "salon_ventas                            6\n",
       "canales_on_line                         0\n",
       "ventas_totales_medio_pago               0\n",
       "efectivo                                0\n",
       "tarjetas_debito                         1\n",
       "tarjetas_credito                        7\n",
       "otros_medios                            1\n",
       "ventas_totales_grupo_articulos          0\n",
       "subtotal_ventas_alimentos_bebidas      10\n",
       "bebidas                                 1\n",
       "almacen                                 2\n",
       "panaderia                               1\n",
       "lacteos                                 1\n",
       "carnes                                  1\n",
       "verduleria_fruteria                     1\n",
       "alimentos_preparados_rotiseria          1\n",
       "articulos_limpieza_perfumeria           0\n",
       "indumentaria_calzado_textiles_hogar     2\n",
       "electronicos_articulos_hogar            3\n",
       "otros                                   4\n",
       "dtype: int64"
      ]
     },
     "execution_count": 3,
     "metadata": {},
     "output_type": "execute_result"
    }
   ],
   "source": [
    "#Comprobar si la información contiene valores nulos\n",
    "#Identificar valores nulos por columna, utilizando una variable llamada \"valores_nulos\"\n",
    "valores_nulos = data.isnull().sum()\n",
    "valores_nulos"
   ]
  },
  {
   "cell_type": "code",
   "execution_count": 4,
   "metadata": {},
   "outputs": [],
   "source": [
    "#Sabiendo que existen 15 columnas con valores nulos, entonces empezamos con la limpieza\n",
    "#salon_Ventas\n",
    "#primero realizamos la copia para hacer metodos estadisticos\n",
    "data2 = data.copy()"
   ]
  },
  {
   "cell_type": "code",
   "execution_count": null,
   "metadata": {},
   "outputs": [],
   "source": [
    "#Sustituimos utilizando la media y guardandolo es su respectiva variable en la columna salon_ventas\n",
    "data2[\"salon_ventas\"]=data2[\"salon_ventas\"].fillna(round(data[\"salon_ventas\"].mean(),1))\n",
    "data2.to_csv(\"colSalon_Ventas_media.csv\")\n",
    "\n",
    "# comprobamos si la columna ahora cuenta con valores nulos\n",
    "valores_nulos = data2.isnull().sum()\n",
    "valores_nulos "
   ]
  },
  {
   "cell_type": "code",
   "execution_count": null,
   "metadata": {},
   "outputs": [],
   "source": [
    "#Sustituimos los valores nulos de la columna tarjetas_debito\n",
    "#utilizamos la media y guardandolo en su respectiva variable en la columna tarjetas_debito\n",
    "data2[\"tarjetas_debito\"]=data2[\"tarjetas_debito\"].fillna(round(data[\"tarjetas_debito\"].mean(),1))\n",
    "data2.to_csv(\"colTarjetas_debito_media.csv\") \n",
    "\n",
    "#  comprobamos si la columna ahora cuenta con valores nulos\n",
    "valores_nulos = data2.isnull().sum()\n",
    "valores_nulos "
   ]
  },
  {
   "cell_type": "code",
   "execution_count": 12,
   "metadata": {},
   "outputs": [
    {
     "data": {
      "text/plain": [
       "indice_tiempo                           0\n",
       "ventas_precios_corrientes               0\n",
       "ventas_precios_constantes               0\n",
       "ventas_totales_canal_venta              0\n",
       "salon_ventas                            0\n",
       "canales_on_line                         0\n",
       "ventas_totales_medio_pago               0\n",
       "efectivo                                0\n",
       "tarjetas_debito                         0\n",
       "tarjetas_credito                        0\n",
       "otros_medios                            1\n",
       "ventas_totales_grupo_articulos          0\n",
       "subtotal_ventas_alimentos_bebidas      10\n",
       "bebidas                                 1\n",
       "almacen                                 2\n",
       "panaderia                               1\n",
       "lacteos                                 1\n",
       "carnes                                  1\n",
       "verduleria_fruteria                     1\n",
       "alimentos_preparados_rotiseria          1\n",
       "articulos_limpieza_perfumeria           0\n",
       "indumentaria_calzado_textiles_hogar     2\n",
       "electronicos_articulos_hogar            3\n",
       "otros                                   4\n",
       "dtype: int64"
      ]
     },
     "execution_count": 12,
     "metadata": {},
     "output_type": "execute_result"
    }
   ],
   "source": [
    "# Sustituimos los valores nulos de la columna tarjetas_credito\n",
    "# utilizamos la media y guardandolo en su respectiva variable en la columna tarjetas_credito\n",
    "data2[\"tarjetas_credito\"]=data2[\"tarjetas_credito\"].fillna(round(data[\"tarjetas_credito\"].mean(),1))\n",
    "data2.to_csv(\"colTarjetas_credito_media.csv\")\n",
    "\n",
    "# comprobamos si la columna ahora cuenta con valores nulos\n",
    "valores_nulos = data2.isnull().sum()\n",
    "valores_nulos"
   ]
  },
  {
   "cell_type": "code",
   "execution_count": 14,
   "metadata": {},
   "outputs": [
    {
     "data": {
      "text/plain": [
       "indice_tiempo                           0\n",
       "ventas_precios_corrientes               0\n",
       "ventas_precios_constantes               0\n",
       "ventas_totales_canal_venta              0\n",
       "salon_ventas                            0\n",
       "canales_on_line                         0\n",
       "ventas_totales_medio_pago               0\n",
       "efectivo                                0\n",
       "tarjetas_debito                         0\n",
       "tarjetas_credito                        0\n",
       "otros_medios                            0\n",
       "ventas_totales_grupo_articulos          0\n",
       "subtotal_ventas_alimentos_bebidas      10\n",
       "bebidas                                 1\n",
       "almacen                                 2\n",
       "panaderia                               1\n",
       "lacteos                                 1\n",
       "carnes                                  1\n",
       "verduleria_fruteria                     1\n",
       "alimentos_preparados_rotiseria          1\n",
       "articulos_limpieza_perfumeria           0\n",
       "indumentaria_calzado_textiles_hogar     2\n",
       "electronicos_articulos_hogar            3\n",
       "otros                                   4\n",
       "dtype: int64"
      ]
     },
     "execution_count": 14,
     "metadata": {},
     "output_type": "execute_result"
    }
   ],
   "source": [
    "#Sustituimos los valores nulos de la columna otros_medios\n",
    "# utilizamos ffll para rellenar los valores nulos con el valor siguiente\n",
    "data2[\"otros_medios\"]=data2[\"otros_medios\"].ffill()\n",
    "data2.to_csv(\"colOtros_medios_ffill.csv\")\n",
    "\n",
    "# comprobamos si la columna ahora cuenta con valores nulos\n",
    "valores_nulos = data2.isnull().sum()\n",
    "valores_nulos"
   ]
  },
  {
   "cell_type": "code",
   "execution_count": 15,
   "metadata": {},
   "outputs": [
    {
     "data": {
      "text/plain": [
       "indice_tiempo                          0\n",
       "ventas_precios_corrientes              0\n",
       "ventas_precios_constantes              0\n",
       "ventas_totales_canal_venta             0\n",
       "salon_ventas                           0\n",
       "canales_on_line                        0\n",
       "ventas_totales_medio_pago              0\n",
       "efectivo                               0\n",
       "tarjetas_debito                        0\n",
       "tarjetas_credito                       0\n",
       "otros_medios                           0\n",
       "ventas_totales_grupo_articulos         0\n",
       "subtotal_ventas_alimentos_bebidas      0\n",
       "bebidas                                1\n",
       "almacen                                2\n",
       "panaderia                              1\n",
       "lacteos                                1\n",
       "carnes                                 1\n",
       "verduleria_fruteria                    1\n",
       "alimentos_preparados_rotiseria         1\n",
       "articulos_limpieza_perfumeria          0\n",
       "indumentaria_calzado_textiles_hogar    2\n",
       "electronicos_articulos_hogar           3\n",
       "otros                                  4\n",
       "dtype: int64"
      ]
     },
     "execution_count": 15,
     "metadata": {},
     "output_type": "execute_result"
    }
   ],
   "source": [
    "# Susitituimos los valores nulos de la columna subtotal_ventas_alimentos_bebidas\n",
    "# utlizamos fillna con un valor predertimano de 12381.5 \n",
    "data2[\"subtotal_ventas_alimentos_bebidas\"]=data2[\"subtotal_ventas_alimentos_bebidas\"].fillna(12381.5)\n",
    "data2.to_csv(\"colSubtotal_ventas_alimentos_bebidas_fillna.csv\")\n",
    "\n",
    "# comprobamos si la columna ahora cuenta con valores nulos\n",
    "valores_nulos = data2.isnull().sum()\n",
    "valores_nulos"
   ]
  },
  {
   "cell_type": "code",
   "execution_count": 16,
   "metadata": {},
   "outputs": [
    {
     "data": {
      "text/plain": [
       "indice_tiempo                          0\n",
       "ventas_precios_corrientes              0\n",
       "ventas_precios_constantes              0\n",
       "ventas_totales_canal_venta             0\n",
       "salon_ventas                           0\n",
       "canales_on_line                        0\n",
       "ventas_totales_medio_pago              0\n",
       "efectivo                               0\n",
       "tarjetas_debito                        0\n",
       "tarjetas_credito                       0\n",
       "otros_medios                           0\n",
       "ventas_totales_grupo_articulos         0\n",
       "subtotal_ventas_alimentos_bebidas      0\n",
       "bebidas                                0\n",
       "almacen                                2\n",
       "panaderia                              1\n",
       "lacteos                                1\n",
       "carnes                                 1\n",
       "verduleria_fruteria                    1\n",
       "alimentos_preparados_rotiseria         1\n",
       "articulos_limpieza_perfumeria          0\n",
       "indumentaria_calzado_textiles_hogar    2\n",
       "electronicos_articulos_hogar           3\n",
       "otros                                  4\n",
       "dtype: int64"
      ]
     },
     "execution_count": 16,
     "metadata": {},
     "output_type": "execute_result"
    }
   ],
   "source": [
    "# Susitituimos los valores nulos de la columna bebidas\n",
    "# utlizamos bfill para rellenar los valores nulos con el valor anterior\n",
    "data2[\"bebidas\"]=data2[\"bebidas\"].bfill()\n",
    "data2.to_csv(\"colBebidas_bfill.csv\")\n",
    "\n",
    "# comprobamos si la columna ahora cuenta con valores nulos\n",
    "valores_nulos = data2.isnull().sum()\n",
    "valores_nulos\n"
   ]
  },
  {
   "cell_type": "code",
   "execution_count": 17,
   "metadata": {},
   "outputs": [
    {
     "data": {
      "text/plain": [
       "indice_tiempo                          0\n",
       "ventas_precios_corrientes              0\n",
       "ventas_precios_constantes              0\n",
       "ventas_totales_canal_venta             0\n",
       "salon_ventas                           0\n",
       "canales_on_line                        0\n",
       "ventas_totales_medio_pago              0\n",
       "efectivo                               0\n",
       "tarjetas_debito                        0\n",
       "tarjetas_credito                       0\n",
       "otros_medios                           0\n",
       "ventas_totales_grupo_articulos         0\n",
       "subtotal_ventas_alimentos_bebidas      0\n",
       "bebidas                                0\n",
       "almacen                                0\n",
       "panaderia                              1\n",
       "lacteos                                1\n",
       "carnes                                 1\n",
       "verduleria_fruteria                    1\n",
       "alimentos_preparados_rotiseria         1\n",
       "articulos_limpieza_perfumeria          0\n",
       "indumentaria_calzado_textiles_hogar    2\n",
       "electronicos_articulos_hogar           3\n",
       "otros                                  4\n",
       "dtype: int64"
      ]
     },
     "execution_count": 17,
     "metadata": {},
     "output_type": "execute_result"
    }
   ],
   "source": [
    "# Susitituimos los valores nulos de la columna almacen \n",
    "# utilizamos la mediana para rellenar los valores nulos con el valor de la mediana\n",
    "data2[\"almacen\"]=data2[\"almacen\"].fillna(round(data[\"almacen\"].median(),1))\n",
    "data2.to_csv(\"colAlmacen_median.csv\")\n",
    "\n",
    "# comprobamos si la columna ahora cuenta con valores nulos\n",
    "valores_nulos = data2.isnull().sum()\n",
    "valores_nulos"
   ]
  },
  {
   "cell_type": "code",
   "execution_count": 18,
   "metadata": {},
   "outputs": [
    {
     "data": {
      "text/plain": [
       "indice_tiempo                          0\n",
       "ventas_precios_corrientes              0\n",
       "ventas_precios_constantes              0\n",
       "ventas_totales_canal_venta             0\n",
       "salon_ventas                           0\n",
       "canales_on_line                        0\n",
       "ventas_totales_medio_pago              0\n",
       "efectivo                               0\n",
       "tarjetas_debito                        0\n",
       "tarjetas_credito                       0\n",
       "otros_medios                           0\n",
       "ventas_totales_grupo_articulos         0\n",
       "subtotal_ventas_alimentos_bebidas      0\n",
       "bebidas                                0\n",
       "almacen                                0\n",
       "panaderia                              0\n",
       "lacteos                                1\n",
       "carnes                                 1\n",
       "verduleria_fruteria                    1\n",
       "alimentos_preparados_rotiseria         1\n",
       "articulos_limpieza_perfumeria          0\n",
       "indumentaria_calzado_textiles_hogar    2\n",
       "electronicos_articulos_hogar           3\n",
       "otros                                  4\n",
       "dtype: int64"
      ]
     },
     "execution_count": 18,
     "metadata": {},
     "output_type": "execute_result"
    }
   ],
   "source": [
    "# Susitituimos los valores nulos de la columna panaderia\n",
    "# utilizamos la media para rellenar los valores nulos con el valor de la media\n",
    "data2[\"panaderia\"]=data2[\"panaderia\"].fillna(round(data[\"panaderia\"].mean(),1))\n",
    "data2.to_csv(\"colPanaderia_media.csv\")\n",
    "\n",
    "# comprobamos si la columna ahora cuenta con valores nulos\n",
    "valores_nulos = data2.isnull().sum()\n",
    "valores_nulos"
   ]
  },
  {
   "cell_type": "code",
   "execution_count": 19,
   "metadata": {},
   "outputs": [
    {
     "data": {
      "text/plain": [
       "indice_tiempo                          0\n",
       "ventas_precios_corrientes              0\n",
       "ventas_precios_constantes              0\n",
       "ventas_totales_canal_venta             0\n",
       "salon_ventas                           0\n",
       "canales_on_line                        0\n",
       "ventas_totales_medio_pago              0\n",
       "efectivo                               0\n",
       "tarjetas_debito                        0\n",
       "tarjetas_credito                       0\n",
       "otros_medios                           0\n",
       "ventas_totales_grupo_articulos         0\n",
       "subtotal_ventas_alimentos_bebidas      0\n",
       "bebidas                                0\n",
       "almacen                                0\n",
       "panaderia                              0\n",
       "lacteos                                0\n",
       "carnes                                 1\n",
       "verduleria_fruteria                    1\n",
       "alimentos_preparados_rotiseria         1\n",
       "articulos_limpieza_perfumeria          0\n",
       "indumentaria_calzado_textiles_hogar    2\n",
       "electronicos_articulos_hogar           3\n",
       "otros                                  4\n",
       "dtype: int64"
      ]
     },
     "execution_count": 19,
     "metadata": {},
     "output_type": "execute_result"
    }
   ],
   "source": [
    "# Susitituimos los valores nulos de la columna lacteos\n",
    "# utilizamos ffill para rellenar los valores nulos con el valor siguiente\n",
    "data2[\"lacteos\"]=data2[\"lacteos\"].ffill()\n",
    "data2.to_csv(\"colLacteos_ffill.csv\")\n",
    "\n",
    "# comprobamos si la columna ahora cuenta con valores nulos\n",
    "valores_nulos = data2.isnull().sum()\n",
    "valores_nulos"
   ]
  },
  {
   "cell_type": "code",
   "execution_count": 20,
   "metadata": {},
   "outputs": [
    {
     "data": {
      "text/plain": [
       "indice_tiempo                          0\n",
       "ventas_precios_corrientes              0\n",
       "ventas_precios_constantes              0\n",
       "ventas_totales_canal_venta             0\n",
       "salon_ventas                           0\n",
       "canales_on_line                        0\n",
       "ventas_totales_medio_pago              0\n",
       "efectivo                               0\n",
       "tarjetas_debito                        0\n",
       "tarjetas_credito                       0\n",
       "otros_medios                           0\n",
       "ventas_totales_grupo_articulos         0\n",
       "subtotal_ventas_alimentos_bebidas      0\n",
       "bebidas                                0\n",
       "almacen                                0\n",
       "panaderia                              0\n",
       "lacteos                                0\n",
       "carnes                                 0\n",
       "verduleria_fruteria                    1\n",
       "alimentos_preparados_rotiseria         1\n",
       "articulos_limpieza_perfumeria          0\n",
       "indumentaria_calzado_textiles_hogar    2\n",
       "electronicos_articulos_hogar           3\n",
       "otros                                  4\n",
       "dtype: int64"
      ]
     },
     "execution_count": 20,
     "metadata": {},
     "output_type": "execute_result"
    }
   ],
   "source": [
    "# Susitituimos los valores nulos de la columna carnes\n",
    "# utilizamos fillna para rellenar los valores nulos con el valor de 20\n",
    "data2[\"carnes\"]= data[\"carnes\"].fillna(20)\n",
    "data2.to_csv(\"colCarnes_fillna.csv\")\n",
    "\n",
    "# comprobamos si la columna ahora cuenta con valores nulos\n",
    "valores_nulos = data2.isnull().sum()\n",
    "valores_nulos"
   ]
  },
  {
   "cell_type": "code",
   "execution_count": 21,
   "metadata": {},
   "outputs": [
    {
     "data": {
      "text/plain": [
       "indice_tiempo                          0\n",
       "ventas_precios_corrientes              0\n",
       "ventas_precios_constantes              0\n",
       "ventas_totales_canal_venta             0\n",
       "salon_ventas                           0\n",
       "canales_on_line                        0\n",
       "ventas_totales_medio_pago              0\n",
       "efectivo                               0\n",
       "tarjetas_debito                        0\n",
       "tarjetas_credito                       0\n",
       "otros_medios                           0\n",
       "ventas_totales_grupo_articulos         0\n",
       "subtotal_ventas_alimentos_bebidas      0\n",
       "bebidas                                0\n",
       "almacen                                0\n",
       "panaderia                              0\n",
       "lacteos                                0\n",
       "carnes                                 0\n",
       "verduleria_fruteria                    0\n",
       "alimentos_preparados_rotiseria         1\n",
       "articulos_limpieza_perfumeria          0\n",
       "indumentaria_calzado_textiles_hogar    2\n",
       "electronicos_articulos_hogar           3\n",
       "otros                                  4\n",
       "dtype: int64"
      ]
     },
     "execution_count": 21,
     "metadata": {},
     "output_type": "execute_result"
    }
   ],
   "source": [
    "# Susitituimos los valores nulos de la columna verduleria_fruteria\n",
    "# utilizamos la media para rellenar los valores nulos con el valor de la media\n",
    "data2[\"verduleria_fruteria\"]=data2[\"verduleria_fruteria\"].fillna(round(data[\"verduleria_fruteria\"].mean(),1))\n",
    "data2.to_csv(\"colVerduleria_fruteria_media.csv\")\n",
    "\n",
    "# comprobamos si la columna ahora cuenta con valores nulos\n",
    "valores_nulos = data2.isnull().sum()\n",
    "valores_nulos"
   ]
  },
  {
   "cell_type": "code",
   "execution_count": 22,
   "metadata": {},
   "outputs": [
    {
     "data": {
      "text/plain": [
       "indice_tiempo                          0\n",
       "ventas_precios_corrientes              0\n",
       "ventas_precios_constantes              0\n",
       "ventas_totales_canal_venta             0\n",
       "salon_ventas                           0\n",
       "canales_on_line                        0\n",
       "ventas_totales_medio_pago              0\n",
       "efectivo                               0\n",
       "tarjetas_debito                        0\n",
       "tarjetas_credito                       0\n",
       "otros_medios                           0\n",
       "ventas_totales_grupo_articulos         0\n",
       "subtotal_ventas_alimentos_bebidas      0\n",
       "bebidas                                0\n",
       "almacen                                0\n",
       "panaderia                              0\n",
       "lacteos                                0\n",
       "carnes                                 0\n",
       "verduleria_fruteria                    0\n",
       "alimentos_preparados_rotiseria         0\n",
       "articulos_limpieza_perfumeria          0\n",
       "indumentaria_calzado_textiles_hogar    2\n",
       "electronicos_articulos_hogar           3\n",
       "otros                                  4\n",
       "dtype: int64"
      ]
     },
     "execution_count": 22,
     "metadata": {},
     "output_type": "execute_result"
    }
   ],
   "source": [
    "# Susitituimos los valores nulos de la columna alimentos_preparados_rotiseria \n",
    "# utilizamos bfill para rellenar los valores nulos con el valor anterior\n",
    "data2[\"alimentos_preparados_rotiseria\"]=data2[\"alimentos_preparados_rotiseria\"].bfill()\n",
    "data2.to_csv(\"colAlimentos_preparados_rotiseria_bfill.csv\")\n",
    "\n",
    "# comprobamos si la columna ahora cuenta con valores nulos\n",
    "valores_nulos = data2.isnull().sum()\n",
    "valores_nulos\n"
   ]
  },
  {
   "cell_type": "code",
   "execution_count": 23,
   "metadata": {},
   "outputs": [
    {
     "data": {
      "text/plain": [
       "indice_tiempo                          0\n",
       "ventas_precios_corrientes              0\n",
       "ventas_precios_constantes              0\n",
       "ventas_totales_canal_venta             0\n",
       "salon_ventas                           0\n",
       "canales_on_line                        0\n",
       "ventas_totales_medio_pago              0\n",
       "efectivo                               0\n",
       "tarjetas_debito                        0\n",
       "tarjetas_credito                       0\n",
       "otros_medios                           0\n",
       "ventas_totales_grupo_articulos         0\n",
       "subtotal_ventas_alimentos_bebidas      0\n",
       "bebidas                                0\n",
       "almacen                                0\n",
       "panaderia                              0\n",
       "lacteos                                0\n",
       "carnes                                 0\n",
       "verduleria_fruteria                    0\n",
       "alimentos_preparados_rotiseria         0\n",
       "articulos_limpieza_perfumeria          0\n",
       "indumentaria_calzado_textiles_hogar    0\n",
       "electronicos_articulos_hogar           3\n",
       "otros                                  4\n",
       "dtype: int64"
      ]
     },
     "execution_count": 23,
     "metadata": {},
     "output_type": "execute_result"
    }
   ],
   "source": [
    "# Susitituimos los valores nulos de la columna indumentaria_calzado_textiles_hogar\n",
    "# utlizamos bfill para rellenar los valores nulos con el valor anterior\n",
    "data2[\"indumentaria_calzado_textiles_hogar\"]=data2[\"indumentaria_calzado_textiles_hogar\"].bfill()\n",
    "data2.to_csv(\"colIndumentaria_calzado_textiles_hogar_bfill.csv\")\n",
    "\n",
    "# comprobamos si la columna ahora cuenta con valores nulos\n",
    "valores_nulos = data2.isnull().sum()\n",
    "valores_nulos"
   ]
  },
  {
   "cell_type": "code",
   "execution_count": 24,
   "metadata": {},
   "outputs": [
    {
     "data": {
      "text/plain": [
       "indice_tiempo                          0\n",
       "ventas_precios_corrientes              0\n",
       "ventas_precios_constantes              0\n",
       "ventas_totales_canal_venta             0\n",
       "salon_ventas                           0\n",
       "canales_on_line                        0\n",
       "ventas_totales_medio_pago              0\n",
       "efectivo                               0\n",
       "tarjetas_debito                        0\n",
       "tarjetas_credito                       0\n",
       "otros_medios                           0\n",
       "ventas_totales_grupo_articulos         0\n",
       "subtotal_ventas_alimentos_bebidas      0\n",
       "bebidas                                0\n",
       "almacen                                0\n",
       "panaderia                              0\n",
       "lacteos                                0\n",
       "carnes                                 0\n",
       "verduleria_fruteria                    0\n",
       "alimentos_preparados_rotiseria         0\n",
       "articulos_limpieza_perfumeria          0\n",
       "indumentaria_calzado_textiles_hogar    0\n",
       "electronicos_articulos_hogar           0\n",
       "otros                                  4\n",
       "dtype: int64"
      ]
     },
     "execution_count": 24,
     "metadata": {},
     "output_type": "execute_result"
    }
   ],
   "source": [
    "# Susitituimos los valores nulos de la columna electronicos_articulos_hogar \n",
    "# utilizamos fillna para rellenar los valores nulos con el valor de 12314012.120\n",
    "data2[\"electronicos_articulos_hogar\"]=data2[\"electronicos_articulos_hogar\"].fillna(12314012.120)\n",
    "data2.to_csv(\"colElectronicos_articulos_hogar_fillna.csv\")\n",
    "\n",
    "# comprobamos si la columna ahora cuenta con valores nulos\n",
    "valores_nulos = data2.isnull().sum()\n",
    "valores_nulos"
   ]
  },
  {
   "cell_type": "code",
   "execution_count": 25,
   "metadata": {},
   "outputs": [
    {
     "data": {
      "text/plain": [
       "indice_tiempo                          0\n",
       "ventas_precios_corrientes              0\n",
       "ventas_precios_constantes              0\n",
       "ventas_totales_canal_venta             0\n",
       "salon_ventas                           0\n",
       "canales_on_line                        0\n",
       "ventas_totales_medio_pago              0\n",
       "efectivo                               0\n",
       "tarjetas_debito                        0\n",
       "tarjetas_credito                       0\n",
       "otros_medios                           0\n",
       "ventas_totales_grupo_articulos         0\n",
       "subtotal_ventas_alimentos_bebidas      0\n",
       "bebidas                                0\n",
       "almacen                                0\n",
       "panaderia                              0\n",
       "lacteos                                0\n",
       "carnes                                 0\n",
       "verduleria_fruteria                    0\n",
       "alimentos_preparados_rotiseria         0\n",
       "articulos_limpieza_perfumeria          0\n",
       "indumentaria_calzado_textiles_hogar    0\n",
       "electronicos_articulos_hogar           0\n",
       "otros                                  0\n",
       "dtype: int64"
      ]
     },
     "execution_count": 25,
     "metadata": {},
     "output_type": "execute_result"
    }
   ],
   "source": [
    "# Susitituimos los valores nulos de la columna otros \n",
    "# utilizamos ffill para rellenar los valores nulos con el valor siguiente\n",
    "data2[\"otros\"]=data2[\"otros\"].fillna(\"otros\")\n",
    "data2.to_csv(\"colOtros_fillna.csv\")\n",
    "\n",
    "# comprobamos si la columna ahora cuenta con valores nulos\n",
    "valores_nulos = data2.isnull().sum()\n",
    "valores_nulos\n"
   ]
  }
 ],
 "metadata": {
  "kernelspec": {
   "display_name": "inteligenciaDeNegociosVenv",
   "language": "python",
   "name": "python3"
  },
  "language_info": {
   "codemirror_mode": {
    "name": "ipython",
    "version": 3
   },
   "file_extension": ".py",
   "mimetype": "text/x-python",
   "name": "python",
   "nbconvert_exporter": "python",
   "pygments_lexer": "ipython3",
   "version": "3.13.0"
  }
 },
 "nbformat": 4,
 "nbformat_minor": 2
}
